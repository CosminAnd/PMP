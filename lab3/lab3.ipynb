{
 "cells": [
  {
   "cell_type": "code",
   "execution_count": 1,
   "metadata": {},
   "outputs": [
    {
     "name": "stdout",
     "output_type": "stream",
     "text": [
      "WARN: Could not locate executable g77\n",
      "WARN: Could not locate executable f77\n",
      "WARN: Could not locate executable ifort\n",
      "WARN: Could not locate executable ifl\n",
      "WARN: Could not locate executable f90\n",
      "WARN: Could not locate executable DF\n",
      "WARN: Could not locate executable efl\n",
      "WARN: Could not locate executable gfortran\n",
      "WARN: Could not locate executable f95\n",
      "WARN: Could not locate executable g95\n",
      "WARN: Could not locate executable efort\n",
      "WARN: Could not locate executable efc\n",
      "WARN: Could not locate executable flang\n",
      "WARN: don't know how to compile Fortran code on platform 'nt'\n"
     ]
    },
    {
     "name": "stderr",
     "output_type": "stream",
     "text": [
      "WARNING (theano.configdefaults): g++ not available, if using conda: `conda install m2w64-toolchain`\n",
      "WARNING (theano.configdefaults): g++ not detected ! Theano will be unable to execute optimized C-implementations (for both CPU and GPU) and will default to Python implementations. Performance will be severely degraded. To remove this warning, set Theano flags cxx to an empty string.\n",
      "WARNING (theano.tensor.blas): Using NumPy C-API based implementation for BLAS functions.\n"
     ]
    },
    {
     "ename": "AttributeError",
     "evalue": "'TensorVariable' object has no attribute 'name_for'",
     "output_type": "error",
     "traceback": [
      "\u001b[1;31m---------------------------------------------------------------------------\u001b[0m",
      "\u001b[1;31mAttributeError\u001b[0m                            Traceback (most recent call last)",
      "Cell \u001b[1;32mIn [1], line 11\u001b[0m\n\u001b[0;32m      9\u001b[0m \u001b[39mwith\u001b[39;00m model:\n\u001b[0;32m     10\u001b[0m     cutremur \u001b[39m=\u001b[39m pm\u001b[39m.\u001b[39mBernoulli(\u001b[39m'\u001b[39m\u001b[39mC\u001b[39m\u001b[39m'\u001b[39m, \u001b[39m0.0005\u001b[39m)\n\u001b[1;32m---> 11\u001b[0m     incendiu_c \u001b[39m=\u001b[39m pm\u001b[39m.\u001b[39;49mDeterministic(\u001b[39m'\u001b[39;49m\u001b[39mI_c\u001b[39;49m\u001b[39m'\u001b[39;49m, cutremur, pm\u001b[39m.\u001b[39;49mmath\u001b[39m.\u001b[39;49mswitch(cutremur, \u001b[39m0.03\u001b[39;49m, \u001b[39m0.01\u001b[39;49m))\n\u001b[0;32m     12\u001b[0m     incendiu \u001b[39m=\u001b[39m pm\u001b[39m.\u001b[39mBernoulli(\u001b[39m'\u001b[39m\u001b[39mI\u001b[39m\u001b[39m'\u001b[39m, p\u001b[39m=\u001b[39mincendiu_c)\n\u001b[0;32m     13\u001b[0m     alarma_c\u001b[39m=\u001b[39m pm\u001b[39m.\u001b[39mDeterministic(\u001b[39m\"\u001b[39m\u001b[39mA_c\u001b[39m\u001b[39m\"\u001b[39m, pm\u001b[39m.\u001b[39mmath\u001b[39m.\u001b[39mswitch(cutremur, pm\u001b[39m.\u001b[39mmath\u001b[39m.\u001b[39mswitch(incendiu, \u001b[39m0.98\u001b[39m, \u001b[39m0.02\u001b[39m), pm\u001b[39m.\u001b[39mmath\u001b[39m.\u001b[39mswitch(incendiu, \u001b[39m0.95\u001b[39m, \u001b[39m0.0001\u001b[39m)))\n",
      "File \u001b[1;32m~\\AppData\\Local\\Packages\\PythonSoftwareFoundation.Python.3.10_qbz5n2kfra8p0\\LocalCache\\local-packages\\Python310\\site-packages\\pymc3\\model.py:1946\u001b[0m, in \u001b[0;36mDeterministic\u001b[1;34m(name, var, model, dims)\u001b[0m\n\u001b[0;32m   1934\u001b[0m \u001b[39m\"\"\"Create a named deterministic variable\u001b[39;00m\n\u001b[0;32m   1935\u001b[0m \n\u001b[0;32m   1936\u001b[0m \u001b[39mParameters\u001b[39;00m\n\u001b[1;32m   (...)\u001b[0m\n\u001b[0;32m   1943\u001b[0m \u001b[39mvar: var, with name attribute\u001b[39;00m\n\u001b[0;32m   1944\u001b[0m \u001b[39m\"\"\"\u001b[39;00m\n\u001b[0;32m   1945\u001b[0m model \u001b[39m=\u001b[39m modelcontext(model)\n\u001b[1;32m-> 1946\u001b[0m var \u001b[39m=\u001b[39m var\u001b[39m.\u001b[39mcopy(model\u001b[39m.\u001b[39;49mname_for(name))\n\u001b[0;32m   1947\u001b[0m model\u001b[39m.\u001b[39mdeterministics\u001b[39m.\u001b[39mappend(var)\n\u001b[0;32m   1948\u001b[0m model\u001b[39m.\u001b[39madd_random_variable(var, dims)\n",
      "\u001b[1;31mAttributeError\u001b[0m: 'TensorVariable' object has no attribute 'name_for'"
     ]
    }
   ],
   "source": [
    "import matplotlib.pyplot as plt\n",
    "import numpy as np\n",
    "import pandas as pd\n",
    "import pymc3 as pm\n",
    "import arviz as az\n",
    "\n",
    "model = pm.Model()\n",
    "\n",
    "with model:\n",
    "    cutremur = pm.Bernoulli('C', 0.0005)\n",
    "    incendiu_c = pm.Deterministic('I_c', cutremur, pm.math.switch(cutremur, 0.03, 0.01))\n",
    "    incendiu = pm.Bernoulli('I', p=incendiu_c)\n",
    "    alarma_c= pm.Deterministic(\"A_c\", pm.math.switch(cutremur, pm.math.switch(incendiu, 0.98, 0.02), pm.math.switch(incendiu, 0.95, 0.0001)))\n",
    "    alarma = pm.Bernoulli('A', p=alarma_c)\n",
    "\n",
    "trace = pm.sample(20000)\n",
    "\n",
    "dictionary = {\n",
    "    'cutremur': trace['C'].tolist(),\n",
    "    'alarma': trace['A'].tolist(),\n",
    "    'incendiu': trace['I'].tolist()\n",
    "}\n",
    "df = pd.DataFrame(dictionary)\n",
    "\n",
    "p_cutremur= df[((df['cutremur']==1)& (df['alarma']==0))].shape[0]/ df[df['cutremur']==0].shape[0]\n",
    "print(p_cutremur)\n",
    "\n",
    "p_incendiu = df[((df['incendiu']==1)& (df['alarma']==0))].shape[0]/ df[df['alarma']==0].shape[0]\n",
    "print(p_incendiu)\n",
    "s\n",
    "az.plot_posterior(trace)\n",
    "plt.show()"
   ]
  },
  {
   "cell_type": "code",
   "execution_count": null,
   "metadata": {},
   "outputs": [],
   "source": []
  }
 ],
 "metadata": {
  "kernelspec": {
   "display_name": "Python 3.10.8 64-bit (microsoft store)",
   "language": "python",
   "name": "python3"
  },
  "language_info": {
   "codemirror_mode": {
    "name": "ipython",
    "version": 3
   },
   "file_extension": ".py",
   "mimetype": "text/x-python",
   "name": "python",
   "nbconvert_exporter": "python",
   "pygments_lexer": "ipython3",
   "version": "3.10.8"
  },
  "orig_nbformat": 4,
  "vscode": {
   "interpreter": {
    "hash": "6c86e7b8688f4da2611d13a77c5b81ea3ad115d3abdfdc9641778853e4fba5db"
   }
  }
 },
 "nbformat": 4,
 "nbformat_minor": 2
}
